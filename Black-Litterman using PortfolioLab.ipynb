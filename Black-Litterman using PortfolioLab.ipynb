{
 "cells": [
  {
   "cell_type": "code",
   "execution_count": 1,
   "id": "current-michael",
   "metadata": {},
   "outputs": [
    {
     "name": "stdout",
     "output_type": "stream",
     "text": [
      "Collecting portfoliolab\n",
      "  Downloading portfoliolab-0.2.1-py3-none-any.whl (104 kB)\n",
      "\u001b[K     |████████████████████████████████| 104 kB 1.1 MB/s eta 0:00:01\n",
      "\u001b[?25hCollecting scipy==1.6.0\n",
      "  Downloading scipy-1.6.0-cp38-cp38-macosx_10_9_x86_64.whl (30.7 MB)\n",
      "\u001b[K     |████████████████████████████████| 30.7 MB 1.0 MB/s eta 0:00:01\n",
      "\u001b[?25hCollecting pandas==1.1.5\n",
      "  Using cached pandas-1.1.5-cp38-cp38-macosx_10_9_x86_64.whl (10.1 MB)\n",
      "Collecting analytics-python==1.2.9\n",
      "  Downloading analytics_python-1.2.9-py2.py3-none-any.whl (13 kB)\n",
      "Collecting matplotlib==3.2.2\n",
      "  Downloading matplotlib-3.2.2-cp38-cp38-macosx_10_9_x86_64.whl (12.5 MB)\n",
      "\u001b[K     |████████████████████████████████| 12.5 MB 1.2 MB/s eta 0:00:01    |███████▍                        | 2.9 MB 391 kB/s eta 0:00:25\n",
      "\u001b[?25hRequirement already satisfied: scikit-learn==0.24.1 in /Users/damian/opt/anaconda3/envs/hands_on_ml2/lib/python3.8/site-packages (from portfoliolab) (0.24.1)\n",
      "Collecting getmac==0.8.2\n",
      "  Downloading getmac-0.8.2-py2.py3-none-any.whl (24 kB)\n",
      "Collecting numpy==1.20.1\n",
      "  Downloading numpy-1.20.1-cp38-cp38-macosx_10_9_x86_64.whl (16.0 MB)\n",
      "\u001b[K     |████████████████████████████████| 16.0 MB 165 kB/s eta 0:00:01\n",
      "\u001b[?25hCollecting cvxpy==1.1.10\n",
      "  Downloading cvxpy-1.1.10-cp38-cp38-macosx_10_9_x86_64.whl (845 kB)\n",
      "\u001b[K     |████████████████████████████████| 845 kB 2.3 MB/s eta 0:00:01\n",
      "\u001b[?25hRequirement already satisfied: requests<3.0,>=2.7 in /Users/damian/opt/anaconda3/envs/hands_on_ml2/lib/python3.8/site-packages (from analytics-python==1.2.9->portfoliolab) (2.25.1)\n",
      "Requirement already satisfied: python-dateutil>2.1 in /Users/damian/opt/anaconda3/envs/hands_on_ml2/lib/python3.8/site-packages (from analytics-python==1.2.9->portfoliolab) (2.8.1)\n",
      "Requirement already satisfied: six>=1.5 in /Users/damian/opt/anaconda3/envs/hands_on_ml2/lib/python3.8/site-packages (from analytics-python==1.2.9->portfoliolab) (1.15.0)\n",
      "Collecting scs>=1.1.6\n",
      "  Downloading scs-2.1.3.tar.gz (147 kB)\n",
      "\u001b[K     |████████████████████████████████| 147 kB 2.0 MB/s eta 0:00:01\n",
      "\u001b[?25hCollecting ecos>=2\n",
      "  Downloading ecos-2.0.7.post1.tar.gz (126 kB)\n",
      "\u001b[K     |████████████████████████████████| 126 kB 2.1 MB/s eta 0:00:01\n",
      "\u001b[?25hCollecting osqp>=0.4.1\n",
      "  Downloading osqp-0.6.2.post0-cp38-cp38-macosx_10_9_x86_64.whl (164 kB)\n",
      "\u001b[K     |████████████████████████████████| 164 kB 2.5 MB/s eta 0:00:01\n",
      "\u001b[?25hRequirement already satisfied: cycler>=0.10 in /Users/damian/opt/anaconda3/envs/hands_on_ml2/lib/python3.8/site-packages (from matplotlib==3.2.2->portfoliolab) (0.10.0)\n",
      "Requirement already satisfied: pyparsing!=2.0.4,!=2.1.2,!=2.1.6,>=2.0.1 in /Users/damian/opt/anaconda3/envs/hands_on_ml2/lib/python3.8/site-packages (from matplotlib==3.2.2->portfoliolab) (2.4.7)\n",
      "Requirement already satisfied: kiwisolver>=1.0.1 in /Users/damian/opt/anaconda3/envs/hands_on_ml2/lib/python3.8/site-packages (from matplotlib==3.2.2->portfoliolab) (1.3.1)\n",
      "Requirement already satisfied: pytz>=2017.2 in /Users/damian/opt/anaconda3/envs/hands_on_ml2/lib/python3.8/site-packages (from pandas==1.1.5->portfoliolab) (2021.1)\n",
      "Requirement already satisfied: threadpoolctl>=2.0.0 in /Users/damian/opt/anaconda3/envs/hands_on_ml2/lib/python3.8/site-packages (from scikit-learn==0.24.1->portfoliolab) (2.1.0)\n",
      "Requirement already satisfied: joblib>=0.11 in /Users/damian/opt/anaconda3/envs/hands_on_ml2/lib/python3.8/site-packages (from scikit-learn==0.24.1->portfoliolab) (1.0.1)\n",
      "Collecting qdldl\n",
      "  Downloading qdldl-0.1.5.post0-cp38-cp38-macosx_10_9_x86_64.whl (87 kB)\n",
      "\u001b[K     |████████████████████████████████| 87 kB 2.6 MB/s eta 0:00:01\n",
      "\u001b[?25hRequirement already satisfied: chardet<5,>=3.0.2 in /Users/damian/opt/anaconda3/envs/hands_on_ml2/lib/python3.8/site-packages (from requests<3.0,>=2.7->analytics-python==1.2.9->portfoliolab) (4.0.0)\n",
      "Requirement already satisfied: urllib3<1.27,>=1.21.1 in /Users/damian/opt/anaconda3/envs/hands_on_ml2/lib/python3.8/site-packages (from requests<3.0,>=2.7->analytics-python==1.2.9->portfoliolab) (1.26.4)\n",
      "Requirement already satisfied: idna<3,>=2.5 in /Users/damian/opt/anaconda3/envs/hands_on_ml2/lib/python3.8/site-packages (from requests<3.0,>=2.7->analytics-python==1.2.9->portfoliolab) (2.10)\n",
      "Requirement already satisfied: certifi>=2017.4.17 in /Users/damian/opt/anaconda3/envs/hands_on_ml2/lib/python3.8/site-packages (from requests<3.0,>=2.7->analytics-python==1.2.9->portfoliolab) (2020.12.5)\n",
      "Building wheels for collected packages: ecos, scs\n",
      "  Building wheel for ecos (setup.py) ... \u001b[?25ldone\n",
      "\u001b[?25h  Created wheel for ecos: filename=ecos-2.0.7.post1-cp38-cp38-macosx_10_9_x86_64.whl size=83726 sha256=cde4e6a5fb99d9c7aa240b1d47f586b15f232d2908cf3f4644f53e7154a6a825\n",
      "  Stored in directory: /Users/damian/Library/Caches/pip/wheels/c3/c1/ce/b551b0b3a40c990e1da2ec9aecff62f7c2d43cab8766368e82\n",
      "  Building wheel for scs (setup.py) ... \u001b[?25ldone\n",
      "\u001b[?25h  Created wheel for scs: filename=scs-2.1.3-cp38-cp38-macosx_10_15_x86_64.whl size=118816 sha256=2d8c2a9dabfb870cdb1a9c69745e35e177f09ace52bd90ca2f99a54163492b8f\n",
      "  Stored in directory: /Users/damian/Library/Caches/pip/wheels/e2/f4/e2/f46f2e79cc4536a1ace2fe1564291f12be7da3587d6ae08eca\n",
      "Successfully built ecos scs\n",
      "Installing collected packages: numpy, scipy, qdldl, scs, osqp, ecos, pandas, matplotlib, getmac, cvxpy, analytics-python, portfoliolab\n",
      "  Attempting uninstall: numpy\n",
      "    Found existing installation: numpy 1.19.2\n",
      "    Uninstalling numpy-1.19.2:\n",
      "      Successfully uninstalled numpy-1.19.2\n",
      "  Attempting uninstall: scipy\n",
      "    Found existing installation: scipy 1.6.1\n",
      "    Uninstalling scipy-1.6.1:\n",
      "      Successfully uninstalled scipy-1.6.1\n",
      "  Attempting uninstall: pandas\n",
      "    Found existing installation: pandas 1.2.3\n",
      "    Uninstalling pandas-1.2.3:\n",
      "      Successfully uninstalled pandas-1.2.3\n",
      "  Attempting uninstall: matplotlib\n",
      "    Found existing installation: matplotlib 3.3.4\n",
      "    Uninstalling matplotlib-3.3.4:\n",
      "      Successfully uninstalled matplotlib-3.3.4\n",
      "Successfully installed analytics-python-1.2.9 cvxpy-1.1.10 ecos-2.0.7.post1 getmac-0.8.2 matplotlib-3.2.2 numpy-1.20.1 osqp-0.6.2.post0 pandas-1.1.5 portfoliolab-0.2.1 qdldl-0.1.5.post0 scipy-1.6.0 scs-2.1.3\n"
     ]
    }
   ],
   "source": [
    "!pip install portfoliolab"
   ]
  },
  {
   "cell_type": "code",
   "execution_count": 2,
   "id": "multiple-radius",
   "metadata": {},
   "outputs": [],
   "source": [
    "from portfoliolab.bayesian import VanillaBlackLitterman"
   ]
  },
  {
   "cell_type": "code",
   "execution_count": 4,
   "id": "interested-peninsula",
   "metadata": {},
   "outputs": [],
   "source": [
    "import pandas as pd"
   ]
  },
  {
   "cell_type": "code",
   "execution_count": 5,
   "id": "incorporated-cooperative",
   "metadata": {},
   "outputs": [],
   "source": [
    "countries = ['AU', 'CA', 'FR', 'DE', 'JP', 'UK', 'US']\n",
    "# Table 1 of the He-Litterman paper: Correlation matrix\n",
    "correlation = pd.DataFrame([\n",
    "    [1.000, 0.488, 0.478, 0.515, 0.439, 0.512, 0.491],\n",
    "    [0.488, 1.000, 0.664, 0.655, 0.310, 0.608, 0.779],\n",
    "    [0.478, 0.664, 1.000, 0.861, 0.355, 0.783, 0.668],\n",
    "    [0.515, 0.655, 0.861, 1.000, 0.354, 0.777, 0.653],\n",
    "    [0.439, 0.310, 0.355, 0.354, 1.000, 0.405, 0.306],\n",
    "    [0.512, 0.608, 0.783, 0.777, 0.405, 1.000, 0.652],\n",
    "    [0.491, 0.779, 0.668, 0.653, 0.306, 0.652, 1.000]\n",
    "], index=countries, columns=countries)\n",
    "# Table 2 of the He-Litterman paper: Volatilities\n",
    "volatilities = pd.DataFrame([0.160, 0.203, 0.248, 0.271, 0.210, 0.200, 0.187],\n",
    "                            index=countries, columns=[\"vol\"])\n",
    "covariance = volatilities.dot(volatilities.T) * correlation"
   ]
  },
  {
   "cell_type": "code",
   "execution_count": 6,
   "id": "blocked-envelope",
   "metadata": {},
   "outputs": [],
   "source": [
    "# Table 2 of the He-Litterman paper: Market-capitalised weights\n",
    "market_weights = pd.DataFrame([0.016, 0.022, 0.052, 0.055, 0.116, 0.124, 0.615],\n",
    "                              index=countries, columns=[\"CapWeight\"])"
   ]
  },
  {
   "cell_type": "markdown",
   "id": "muslim-administrator",
   "metadata": {},
   "source": [
    "# View 1"
   ]
  },
  {
   "cell_type": "code",
   "execution_count": 7,
   "id": "ecological-committee",
   "metadata": {},
   "outputs": [],
   "source": [
    "# Q\n",
    "views = [0.05]\n",
    "# P\n",
    "pick_list = [\n",
    "        {\n",
    "            \"DE\": 1.0,\n",
    "            \"FR\": -market_weights.loc[\"FR\"]/(market_weights.loc[\"FR\"] + \\\n",
    "                                            market_weights.loc[\"UK\"]),\n",
    "            \"UK\": -market_weights.loc[\"UK\"] / (market_weights.loc[\"FR\"] + \\\n",
    "                                                market_weights.loc[\"UK\"])\n",
    "        }\n",
    "]"
   ]
  },
  {
   "cell_type": "code",
   "execution_count": 8,
   "id": "sexual-shepherd",
   "metadata": {},
   "outputs": [
    {
     "name": "stderr",
     "output_type": "stream",
     "text": [
      "/Users/damian/opt/anaconda3/envs/hands_on_ml2/lib/python3.8/site-packages/numpy/core/_asarray.py:102: VisibleDeprecationWarning: Creating an ndarray from ragged nested sequences (which is a list-or-tuple of lists-or-tuples-or ndarrays with different lengths or shapes) is deprecated. If you meant to do this, you must specify 'dtype=object' when creating the ndarray.\n",
      "  return array(a, dtype, copy=False, order=order)\n"
     ]
    }
   ],
   "source": [
    "bl = VanillaBlackLitterman()\n",
    "bl.allocate(covariance=covariance,\n",
    "            market_capitalised_weights=market_weights,\n",
    "            investor_views=views,\n",
    "            pick_list=pick_list,\n",
    "            asset_names=covariance.columns,\n",
    "            tau=0.05,\n",
    "            risk_aversion=2.5)"
   ]
  },
  {
   "cell_type": "code",
   "execution_count": 12,
   "id": "controlling-genre",
   "metadata": {},
   "outputs": [
    {
     "data": {
      "text/html": [
       "<div>\n",
       "<style scoped>\n",
       "    .dataframe tbody tr th:only-of-type {\n",
       "        vertical-align: middle;\n",
       "    }\n",
       "\n",
       "    .dataframe tbody tr th {\n",
       "        vertical-align: top;\n",
       "    }\n",
       "\n",
       "    .dataframe thead th {\n",
       "        text-align: right;\n",
       "    }\n",
       "</style>\n",
       "<table border=\"1\" class=\"dataframe\">\n",
       "  <thead>\n",
       "    <tr style=\"text-align: right;\">\n",
       "      <th></th>\n",
       "      <th>AU</th>\n",
       "      <th>CA</th>\n",
       "      <th>FR</th>\n",
       "      <th>DE</th>\n",
       "      <th>JP</th>\n",
       "      <th>UK</th>\n",
       "      <th>US</th>\n",
       "    </tr>\n",
       "  </thead>\n",
       "  <tbody>\n",
       "    <tr>\n",
       "      <th>0</th>\n",
       "      <td>0.039376</td>\n",
       "      <td>0.069152</td>\n",
       "      <td>0.083581</td>\n",
       "      <td>0.090272</td>\n",
       "      <td>0.043028</td>\n",
       "      <td>0.067677</td>\n",
       "      <td>0.0756</td>\n",
       "    </tr>\n",
       "  </tbody>\n",
       "</table>\n",
       "</div>"
      ],
      "text/plain": [
       "         AU        CA        FR        DE        JP        UK      US\n",
       "0  0.039376  0.069152  0.083581  0.090272  0.043028  0.067677  0.0756"
      ]
     },
     "execution_count": 12,
     "metadata": {},
     "output_type": "execute_result"
    }
   ],
   "source": [
    "bl.implied_equilibrium_returns"
   ]
  },
  {
   "cell_type": "code",
   "execution_count": null,
   "id": "annoying-discount",
   "metadata": {},
   "outputs": [],
   "source": [
    "bl.implied_"
   ]
  }
 ],
 "metadata": {
  "kernelspec": {
   "display_name": "Python 3",
   "language": "python",
   "name": "python3"
  },
  "language_info": {
   "codemirror_mode": {
    "name": "ipython",
    "version": 3
   },
   "file_extension": ".py",
   "mimetype": "text/x-python",
   "name": "python",
   "nbconvert_exporter": "python",
   "pygments_lexer": "ipython3",
   "version": "3.8.8"
  }
 },
 "nbformat": 4,
 "nbformat_minor": 5
}
